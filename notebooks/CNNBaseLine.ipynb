{
 "cells": [
  {
   "cell_type": "code",
   "execution_count": 24,
   "metadata": {
    "collapsed": false
   },
   "outputs": [],
   "source": [
    "from keras.layers.convolutional import Convolution2D\n",
    "from keras.layers.convolutional import MaxPooling2D\n",
    "\n",
    "from keras.models import Sequential\n",
    "from keras.layers import Dense, Dropout, Activation, Flatten\n",
    "\n",
    "from keras.optimizers import SGD\n",
    "\n",
    "import numpy as np\n",
    "import theano as th"
   ]
  },
  {
   "cell_type": "code",
   "execution_count": 48,
   "metadata": {
    "collapsed": true
   },
   "outputs": [],
   "source": [
    "model = Sequential()\n"
   ]
  },
  {
   "cell_type": "markdown",
   "metadata": {},
   "source": [
    "## Arguments  of Convolution2D\n",
    "\n",
    "* nb_filter: Number of convolution filters to use.\n",
    "* nb_row: Number of rows in the convolution kernel.\n",
    "* nb_col: Number of columns in the convolution kernel.\n",
    "* init: name of initialization function for the weights of the layer (see initializations), or alternatively, Theano * function to use for weights initialization. This parameter is only relevant if you don't pass a weights argument.\n",
    "* activation: name of activation function to use (see activations), or alternatively, elementwise Theano function. If you * don't specify anything, no activation is applied (ie. \"linear\" activation: a(x) = x).\n",
    "* weights: list of numpy arrays to set as initial weights.\n",
    "* border_mode: 'valid' or 'same'.\n",
    "* subsample: tuple of length 2. Factor by which to subsample output. Also called strides elsewhere.\n",
    "* W_regularizer: instance of WeightRegularizer (eg. L1 or L2 regularization), applied to the main weights matrix.\n",
    "* b_regularizer: instance of WeightRegularizer, applied to the bias.\n",
    "* activity_regularizer: instance of ActivityRegularizer, applied to the network output.\n",
    "* W_constraint: instance of the constraints module (eg. maxnorm, nonneg), applied to the main weights matrix.\n",
    "* b_constraint: instance of the constraints module, applied to the bias.\n",
    "* dim_ordering: 'th' or 'tf'. In 'th' mode, the channels dimension (the depth) is at index 1, in 'tf' mode is it at index 3. It defaults to the image_dim_ordering value found in your Keras config file at ~/.keras/keras.json. If you never set it, then it will be \"th\".\n",
    "* bias: whether to include a bias (i.e. make the layer affine rather than linear).\n",
    "\n",
    "### Input shape\n",
    "\n",
    "4D tensor with shape: (samples, channels, rows, cols) if dim_ordering='th' or 4D tensor with shape: (samples, rows, cols, channels) if dim_ordering='tf'.\n",
    "\n",
    "### Output shape\n",
    "\n",
    "4D tensor with shape: (samples, nb_filter, new_rows, new_cols) if dim_ordering='th' or 4D tensor with shape: (samples, new_rows, new_cols, nb_filter) if dim_ordering='tf'. rows and cols values might have changed due to padding."
   ]
  },
  {
   "cell_type": "code",
   "execution_count": 104,
   "metadata": {
    "collapsed": false
   },
   "outputs": [],
   "source": [
    "\"\"\"\n",
    "CNN Layer signature\n",
    "Convolution1D(nb_filter,\n",
    "              filter_length,\n",
    "              init='uniform',\n",
    "              activation='linear', \n",
    "              weights=None,\n",
    "              border_mode='valid',\n",
    "              subsample_length=1,\n",
    "              W_regularizer=None,\n",
    "              b_regularizer=None,\n",
    "              activity_regularizer=None,\n",
    "              W_constraint=None, b_constraint=None, bias=True, input_dim=None, input_length=None)\n",
    "\"\"\"\n",
    "model = Sequential()\n",
    "model.add(Convolution2D(nb_filter=32,border_mode='valid',nb_row=5,nb_col=5 , input_shape=( 64,64,3),dim_ordering='tf') )\n",
    "model.add(Activation('relu'))\n",
    "model.add(MaxPooling2D(pool_size=(2, 2)))\n",
    "\n",
    "model.add(Convolution2D(nb_filter=32,border_mode='valid', nb_row=3, nb_col=3))\n",
    "model.add(Activation('relu'))\n",
    "model.add(MaxPooling2D(pool_size=(2, 2)))\n",
    "\n",
    "# model.add(Convolution2D(nb_filter=1, nb_row=2, nb_col=2))\n",
    "# model.add(Activation('relu'))\n",
    "# model.add(MaxPooling2D(pool_size=(2, 2)))\n",
    "\n",
    "model.add(Flatten())\n",
    "# MLP\n",
    "model.add(Dense(1000))\n",
    "model.add(Activation('relu'))\n",
    "model.add(Dropout(0.5))\n",
    "\n",
    "#Classification Layer\n",
    "model.add(Dense(4))\n",
    "model.add(Activation('softmax'))"
   ]
  },
  {
   "cell_type": "code",
   "execution_count": 105,
   "metadata": {
    "collapsed": false
   },
   "outputs": [],
   "source": [
    "# compile model\n",
    "sgd = SGD(lr=0.5)\n",
    "\n",
    "\n",
    "\n",
    "model.compile(optimizer=sgd,\n",
    "              loss='categorical_crossentropy',\n",
    "              metrics=['accuracy'])"
   ]
  },
  {
   "cell_type": "code",
   "execution_count": 26,
   "metadata": {
    "collapsed": true
   },
   "outputs": [],
   "source": [
    "import cPickle as pkl"
   ]
  },
  {
   "cell_type": "code",
   "execution_count": null,
   "metadata": {
    "collapsed": true
   },
   "outputs": [],
   "source": [
    "trainX = pkl.load(open(\"../data/pkl/trainX.pkl\"))"
   ]
  },
  {
   "cell_type": "code",
   "execution_count": null,
   "metadata": {
    "collapsed": false
   },
   "outputs": [],
   "source": []
  },
  {
   "cell_type": "code",
   "execution_count": 30,
   "metadata": {
    "collapsed": true
   },
   "outputs": [],
   "source": [
    "trainY = pkl.load(open(\"../data/pkl/trainY.pkl\"))"
   ]
  },
  {
   "cell_type": "code",
   "execution_count": 55,
   "metadata": {
    "collapsed": true
   },
   "outputs": [],
   "source": [
    "from keras.utils.np_utils import to_categorical"
   ]
  },
  {
   "cell_type": "code",
   "execution_count": null,
   "metadata": {
    "collapsed": false
   },
   "outputs": [
    {
     "name": "stdout",
     "output_type": "stream",
     "text": [
      "Epoch 1/100\n",
      "3400/8000 [===========>..................] - ETA: 36s - loss: 1.2723 - acc: 0.4382"
     ]
    }
   ],
   "source": [
    "model.fit(trainX, to_categorical(trainY-1,4) , batch_size=8000, nb_epoch=100)"
   ]
  },
  {
   "cell_type": "code",
   "execution_count": 52,
   "metadata": {
    "collapsed": false
   },
   "outputs": [
    {
     "data": {
      "text/plain": [
       "{1, 2, 3, 4}"
      ]
     },
     "execution_count": 52,
     "metadata": {},
     "output_type": "execute_result"
    }
   ],
   "source": [
    "set(trainY)"
   ]
  },
  {
   "cell_type": "code",
   "execution_count": 54,
   "metadata": {
    "collapsed": false
   },
   "outputs": [
    {
     "data": {
      "text/plain": [
       "array([[4],\n",
       "       [3],\n",
       "       [3],\n",
       "       ..., \n",
       "       [2],\n",
       "       [2],\n",
       "       [2]])"
      ]
     },
     "execution_count": 54,
     "metadata": {},
     "output_type": "execute_result"
    }
   ],
   "source": [
    "trainY.reshape(8000,1)"
   ]
  },
  {
   "cell_type": "code",
   "execution_count": null,
   "metadata": {
    "collapsed": true
   },
   "outputs": [],
   "source": []
  }
 ],
 "metadata": {
  "kernelspec": {
   "display_name": "Python 2",
   "language": "python",
   "name": "python2"
  },
  "language_info": {
   "codemirror_mode": {
    "name": "ipython",
    "version": 2
   },
   "file_extension": ".py",
   "mimetype": "text/x-python",
   "name": "python",
   "nbconvert_exporter": "python",
   "pygments_lexer": "ipython2",
   "version": "2.7.5"
  }
 },
 "nbformat": 4,
 "nbformat_minor": 0
}
