{
 "cells": [
  {
   "cell_type": "code",
   "execution_count": 1,
   "metadata": {
    "collapsed": true
   },
   "outputs": [],
   "source": [
    "from PIL import Image\n",
    "import numpy as np\n",
    "import matplotlib.pyplot as plt\n",
    "from matplotlib.colors import LogNorm\n",
    "from sklearn import mixture\n",
    "\n",
    "import scipy\n",
    "\n",
    "import numpy as np\n",
    "import matplotlib.pyplot as plt\n",
    "from matplotlib.colors import LogNorm\n",
    "from sklearn import mixture"
   ]
  },
  {
   "cell_type": "code",
   "execution_count": 4,
   "metadata": {
    "collapsed": false
   },
   "outputs": [
    {
     "name": "stdout",
     "output_type": "stream",
     "text": [
      "42759\n"
     ]
    }
   ],
   "source": [
    "import os\n",
    "\n",
    "dir_conts = os.popen(\"ls ../data/images/roof_images\").read().split(\"\\n\")[:-1]\n",
    "print len(dir_conts)"
   ]
  },
  {
   "cell_type": "code",
   "execution_count": 5,
   "metadata": {
    "collapsed": true
   },
   "outputs": [],
   "source": [
    "all_ids = map(lambda x: x.strip(\".jpg\"), dir_conts)"
   ]
  },
  {
   "cell_type": "code",
   "execution_count": 28,
   "metadata": {
    "collapsed": true
   },
   "outputs": [],
   "source": [
    "import pandas as pd\n",
    "\n",
    "df_all = pd.DataFrame({\"k\" : all_ids})"
   ]
  },
  {
   "cell_type": "code",
   "execution_count": 29,
   "metadata": {
    "collapsed": false
   },
   "outputs": [],
   "source": [
    "# id_train.csv  sample_submission4.csv\n",
    "df_train = pd.read_csv(\"../data/csv_lables/id_train.csv\")\n",
    "df_test = pd.read_csv(\"../data/csv_lables/sample_submission4.csv\")"
   ]
  },
  {
   "cell_type": "code",
   "execution_count": 30,
   "metadata": {
    "collapsed": false
   },
   "outputs": [
    {
     "data": {
      "text/plain": [
       "Index([u'k'], dtype='object')"
      ]
     },
     "execution_count": 30,
     "metadata": {},
     "output_type": "execute_result"
    }
   ],
   "source": [
    "df_all.keys()"
   ]
  },
  {
   "cell_type": "code",
   "execution_count": 48,
   "metadata": {
    "collapsed": false
   },
   "outputs": [],
   "source": [
    "unsupervised = set(map(int,list(df_all[\"k\"]))) - set(list(df_train[\"Id\"])) -set(list(df_test[\"Id\"]))"
   ]
  },
  {
   "cell_type": "code",
   "execution_count": 51,
   "metadata": {
    "collapsed": false
   },
   "outputs": [
    {
     "data": {
      "text/plain": [
       "20760"
      ]
     },
     "execution_count": 51,
     "metadata": {},
     "output_type": "execute_result"
    }
   ],
   "source": [
    "len(unsupervised)"
   ]
  },
  {
   "cell_type": "code",
   "execution_count": 39,
   "metadata": {
    "collapsed": false
   },
   "outputs": [
    {
     "data": {
      "text/plain": [
       "0        -3935637\n",
       "1        -2815459\n",
       "2        -2355684\n",
       "3        -2343303\n",
       "4        -1981985\n",
       "5        -1964319\n",
       "6        -1937877\n",
       "7        -1813560\n",
       "8        -1586982\n",
       "9        -1582718\n",
       "10       -1311082\n",
       "11       -1304053\n",
       "12       -1191173\n",
       "13       27430139\n",
       "14       36706968\n",
       "15       39440457\n",
       "16       41778876\n",
       "17       43805247\n",
       "18       44583884\n",
       "19       44594286\n",
       "20       44594293\n",
       "21       44594295\n",
       "22       44596573\n",
       "23       45144605\n",
       "24       45144610\n",
       "25       45144613\n",
       "26       45144616\n",
       "27       45187032\n",
       "28       45269029\n",
       "29       45269079\n",
       "          ...    \n",
       "7970    132243136\n",
       "7971    132243142\n",
       "7972    132243185\n",
       "7973    132243598\n",
       "7974    132243627\n",
       "7975    132243632\n",
       "7976    132243846\n",
       "7977    132243944\n",
       "7978    132243997\n",
       "7979    132244012\n",
       "7980    132244054\n",
       "7981    132244108\n",
       "7982    132244327\n",
       "7983    132244339\n",
       "7984    132244354\n",
       "7985    132244868\n",
       "7986    132245662\n",
       "7987    132245750\n",
       "7988    132245760\n",
       "7989    132245803\n",
       "7990    132245832\n",
       "7991    132245888\n",
       "7992    132245951\n",
       "7993    132245952\n",
       "7994    132245989\n",
       "7995    132246071\n",
       "7996    132246160\n",
       "7997    132246203\n",
       "7998    132246237\n",
       "7999    132246252\n",
       "Name: Id, dtype: int64"
      ]
     },
     "execution_count": 39,
     "metadata": {},
     "output_type": "execute_result"
    }
   ],
   "source": []
  },
  {
   "cell_type": "code",
   "execution_count": null,
   "metadata": {
    "collapsed": true
   },
   "outputs": [],
   "source": []
  }
 ],
 "metadata": {
  "kernelspec": {
   "display_name": "Python 2",
   "language": "python",
   "name": "python2"
  },
  "language_info": {
   "codemirror_mode": {
    "name": "ipython",
    "version": 2
   },
   "file_extension": ".py",
   "mimetype": "text/x-python",
   "name": "python",
   "nbconvert_exporter": "python",
   "pygments_lexer": "ipython2",
   "version": "2.7.5"
  }
 },
 "nbformat": 4,
 "nbformat_minor": 0
}
